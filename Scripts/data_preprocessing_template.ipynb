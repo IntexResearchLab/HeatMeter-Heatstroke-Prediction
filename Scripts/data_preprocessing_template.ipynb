{
  "nbformat": 4,
  "nbformat_minor": 0,
  "metadata": {
    "colab": {
      "provenance": []
    },
    "kernelspec": {
      "name": "python3",
      "display_name": "Python 3"
    },
    "language_info": {
      "name": "python"
    }
  },
  "cells": [
    {
      "cell_type": "markdown",
      "source": [
        "# Import libraries\n"
      ],
      "metadata": {
        "id": "wOwioRACmx0s"
      }
    },
    {
      "cell_type": "code",
      "execution_count": null,
      "metadata": {
        "id": "IeJhL88RY_34"
      },
      "outputs": [],
      "source": [
        "# Import necessary libraries for data preprocessing\n",
        "import pandas as pd\n",
        "import seaborn as sns\n",
        "from google.colab import files # Necessary for Google Colaboratory environment\n",
        "import matplotlib.pyplot as plt"
      ]
    },
    {
      "cell_type": "markdown",
      "source": [
        "# Step 1: Dataset upload"
      ],
      "metadata": {
        "id": "WOqgf6XGnBBb"
      }
    },
    {
      "cell_type": "code",
      "source": [
        "# Step 1: Dataset upload\n",
        "# Prompt the user to upload the dataset\n",
        "upload = files.upload()\n",
        "dataset = pd.read_csv('All_Div_BD.csv') # Load dataset into a DataFrame\n",
        "dataset.shape # Print the shape of the dataset\n",
        "dataset.head(5) # Display the first 5 rows for preview"
      ],
      "metadata": {
        "id": "dS27-4s6kGvT"
      },
      "execution_count": null,
      "outputs": []
    },
    {
      "cell_type": "markdown",
      "source": [
        "# Step 2: Exclude nighttime data (hours outside 7 AM - 7 PM)"
      ],
      "metadata": {
        "id": "wGuwfxCAnCaZ"
      }
    },
    {
      "cell_type": "code",
      "source": [
        "# Step 2: Exclude nighttime data (hours outside 7 AM - 7 PM)\n",
        "# Filter rows with hour < 7 or hour > 19\n",
        "before_seven_am = dataset[dataset['hour']<7]\n",
        "after_seven_pm = dataset[dataset['hour']>19]\n",
        "before_seven_am.head(10)\n",
        "after_seven_pm.head(10)\n",
        "dataset = dataset.drop(before_seven_am.index, axis=0) # Drop early morning rows\n",
        "dataset = dataset.drop(after_seven_pm.index, axis=0) # Drop late evening rows"
      ],
      "metadata": {
        "id": "_wcvDLtdkGsc"
      },
      "execution_count": null,
      "outputs": []
    },
    {
      "cell_type": "markdown",
      "source": [
        "# Step 3: Correlation matrix visualization"
      ],
      "metadata": {
        "id": "hCruCF-2nDpB"
      }
    },
    {
      "cell_type": "code",
      "source": [
        "# Step 3: Correlation matrix visualization\n",
        "# Analyze correlations between features\n",
        "dataset.corr()\n",
        "plt.figure(figsize=(10,10))\n",
        "sns.heatmap(dataset.corr(), annot=True)"
      ],
      "metadata": {
        "id": "grSbxF8OkLtD"
      },
      "execution_count": null,
      "outputs": []
    },
    {
      "cell_type": "markdown",
      "source": [
        "# Step 4: Define dependent (target) and independent (features) variables"
      ],
      "metadata": {
        "id": "VUiB3aPdnEf0"
      }
    },
    {
      "cell_type": "code",
      "source": [
        "# Step 4: Define dependent (target) and independent (features) variables\n",
        "# Exclude irrelevant columns from the feature set\n",
        "x = dataset.drop(['year','month','day','hour','wbgt'],axis=1)\n",
        "print(x.shape) # Print the shape of the independent variables\n",
        "colms = x.shape[1] # Extract the number of features (columns) in the independent variables\n",
        "colms # Output the number of features\n",
        "y = dataset['wbgt'] # Target variable: WBGT\n",
        "y.shape # Print the shape of the dependent variable"
      ],
      "metadata": {
        "id": "PCC7PsM-kNgr"
      },
      "execution_count": null,
      "outputs": []
    }
  ]
}